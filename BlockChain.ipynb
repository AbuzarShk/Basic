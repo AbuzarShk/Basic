{
  "nbformat": 4,
  "nbformat_minor": 0,
  "metadata": {
    "colab": {
      "provenance": [],
      "authorship_tag": "ABX9TyNU9z1eLhwJ0kx2x7IrA5aG",
      "include_colab_link": true
    },
    "kernelspec": {
      "name": "python3",
      "display_name": "Python 3"
    },
    "language_info": {
      "name": "python"
    }
  },
  "cells": [
    {
      "cell_type": "markdown",
      "metadata": {
        "id": "view-in-github",
        "colab_type": "text"
      },
      "source": [
        "<a href=\"https://colab.research.google.com/github/AbuzarShk/Basic/blob/master/BlockChain.ipynb\" target=\"_parent\"><img src=\"https://colab.research.google.com/assets/colab-badge.svg\" alt=\"Open In Colab\"/></a>"
      ]
    },
    {
      "cell_type": "code",
      "execution_count": 1,
      "metadata": {
        "id": "UuGM2vsR9SOI"
      },
      "outputs": [],
      "source": [
        "import hashlib"
      ]
    },
    {
      "cell_type": "code",
      "source": [
        "class Block:\n",
        "  def __init__(self,data,prev_hash):\n",
        "    self.data = data\n",
        "    self.prev_hash = prev_hash\n",
        "    self.hash = self.calc_hash()\n",
        "\n",
        "\n",
        "  def calc_hash(self):\n",
        "    sha = hashlib.sha256()\n",
        "    sha.update(self.data.encode('utf-8'))\n",
        "    return sha.hexdigest()"
      ],
      "metadata": {
        "id": "Wmkn33Z5-SoB"
      },
      "execution_count": 2,
      "outputs": []
    },
    {
      "cell_type": "code",
      "source": [
        "class Blockchain:\n",
        "  def __init__(self):\n",
        "    self.chain = [self.create_genesis_block()]\n",
        "\n",
        "  def create_genesis_block(self):\n",
        "    return Block(\"Genesis Block\",\"0\")\n",
        "\n",
        "  def add_block(self,data):\n",
        "    prev_block = self.chain[-1]\n",
        "    new_block = Block(data, prev_block.hash)\n",
        "    self.chain.append(new_block)\n"
      ],
      "metadata": {
        "id": "WggI3qvMAFGH"
      },
      "execution_count": 3,
      "outputs": []
    },
    {
      "cell_type": "code",
      "source": [
        "blockchain = Blockchain()"
      ],
      "metadata": {
        "id": "iktUmfzZCBYJ"
      },
      "execution_count": 4,
      "outputs": []
    },
    {
      "cell_type": "code",
      "source": [
        "blockchain.add_block('First Block')\n",
        "blockchain.add_block('Second Block')\n",
        "blockchain.add_block('Third Block')"
      ],
      "metadata": {
        "id": "awrIpb-oDq29"
      },
      "execution_count": 5,
      "outputs": []
    },
    {
      "cell_type": "code",
      "source": [
        "print('Blockchain:')\n",
        "for block in blockchain.chain:\n",
        "  print('Data:',block.data)\n",
        "  print('Previous hash:',block.prev_hash)\n",
        "  print('Hash:',block.hash)\n",
        "  print()"
      ],
      "metadata": {
        "colab": {
          "base_uri": "https://localhost:8080/"
        },
        "id": "82OAcCt8D-pp",
        "outputId": "b8d9ba3e-0fd9-45f0-be11-ac7745721cfe"
      },
      "execution_count": 6,
      "outputs": [
        {
          "output_type": "stream",
          "name": "stdout",
          "text": [
            "Blockchain:\n",
            "Data: Genesis Block\n",
            "Previous hash: 0\n",
            "Hash: 89eb0ac031a63d2421cd05a2fbe41f3ea35f5c3712ca839cbf6b85c4ee07b7a3\n",
            "\n",
            "Data: First Block\n",
            "Previous hash: 89eb0ac031a63d2421cd05a2fbe41f3ea35f5c3712ca839cbf6b85c4ee07b7a3\n",
            "Hash: 541963a34346a1880a17157517a707e582d79fb8cfb7472074be88d93aabc88e\n",
            "\n",
            "Data: Second Block\n",
            "Previous hash: 541963a34346a1880a17157517a707e582d79fb8cfb7472074be88d93aabc88e\n",
            "Hash: 50c9991f8736d9385422d8bb4f863708803184616b3d541058a1f3fc62c638fc\n",
            "\n",
            "Data: Third Block\n",
            "Previous hash: 50c9991f8736d9385422d8bb4f863708803184616b3d541058a1f3fc62c638fc\n",
            "Hash: 60581ee0a808db3fc0b36f7325afb9b6f3cfae4f49d4bf90689d7b0d47956b1b\n",
            "\n"
          ]
        }
      ]
    }
  ]
}