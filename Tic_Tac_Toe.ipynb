{
  "nbformat": 4,
  "nbformat_minor": 0,
  "metadata": {
    "colab": {
      "provenance": [],
      "authorship_tag": "ABX9TyNexFQw+WHjwzy3EchliYaV",
      "include_colab_link": true
    },
    "kernelspec": {
      "name": "python3",
      "display_name": "Python 3"
    },
    "language_info": {
      "name": "python"
    }
  },
  "cells": [
    {
      "cell_type": "markdown",
      "metadata": {
        "id": "view-in-github",
        "colab_type": "text"
      },
      "source": [
        "<a href=\"https://colab.research.google.com/github/AbuzarShk/Basic/blob/master/Tic_Tac_Toe.ipynb\" target=\"_parent\"><img src=\"https://colab.research.google.com/assets/colab-badge.svg\" alt=\"Open In Colab\"/></a>"
      ]
    },
    {
      "cell_type": "code",
      "execution_count": 37,
      "metadata": {
        "id": "cGVchsfpGMoK"
      },
      "outputs": [],
      "source": [
        "board = [' ' for x in range(0,9)]"
      ]
    },
    {
      "cell_type": "code",
      "source": [
        "def print_board():\n",
        "  row1 = \"| {} | {} | {} |\".format(board[0], board[1], board[2])\n",
        "  row2 = \"| {} | {} | {} |\".format(board[3], board[4], board[5])\n",
        "  row3 = \"| {} | {} | {} |\".format(board[6], board[7], board[8])\n",
        "\n",
        "  print()\n",
        "  print(row1)\n",
        "  print(row2)\n",
        "  print(row3)\n",
        "  print()  \n",
        " \n",
        "\n"
      ],
      "metadata": {
        "id": "l_PFqKkeN4g9"
      },
      "execution_count": 38,
      "outputs": []
    },
    {
      "cell_type": "code",
      "source": [
        "def player_move(icon):\n",
        "  if icon == 'X':\n",
        "    number = 1\n",
        "  elif icon == 'O':\n",
        "    number = 2\n",
        "  print('Your turn player #{}:'.format(number))\n",
        "  choice = int(input('Enter your move (1-9):'))\n",
        "  if board[choice - 1] == ' ':\n",
        "      board[choice - 1] = icon \n",
        "  else:\n",
        "      print()\n",
        "      print('That space is already taken!!!')\n",
        "      player_move(icon)"
      ],
      "metadata": {
        "id": "E4dK2tects1O"
      },
      "execution_count": 47,
      "outputs": []
    },
    {
      "cell_type": "code",
      "source": [
        "def is_victory(icon):\n",
        "  if(board[0] == icon and board[1] == icon and board[2] == icon) or \\\n",
        "    (board[3] == icon and board[4] == icon and board[5] == icon) or \\\n",
        "    (board[6] == icon and board[7] == icon and board[8] == icon) or \\\n",
        "    (board[0] == icon and board[3] == icon and board[6] == icon) or \\\n",
        "    (board[1] == icon and board[4] == icon and board[7] == icon) or \\\n",
        "    (board[2] == icon and board[5] == icon and board[8] == icon) or \\\n",
        "    (board[0] == icon and board[4] == icon and board[8] == icon) or \\\n",
        "    (board[2] == icon and board[4] == icon and board[6] == icon):\n",
        "    return True\n",
        "  else:\n",
        "    return False"
      ],
      "metadata": {
        "id": "K58O_gTQvAaf"
      },
      "execution_count": 48,
      "outputs": []
    },
    {
      "cell_type": "code",
      "source": [
        "def is_draw():\n",
        "  if ' ' not in board:\n",
        "    return True\n",
        "  else:\n",
        "    return False"
      ],
      "metadata": {
        "id": "5xDxPwggwQx6"
      },
      "execution_count": 49,
      "outputs": []
    },
    {
      "cell_type": "code",
      "source": [
        "print(\"Rules for Playing the Game\")\n",
        "print(\"| 1 | 2 | 3 |\")\n",
        "print(\"| 4 | 5 | 6 |\")\n",
        "print(\"| 7 | 8 | 9 |\")\n",
        "\n",
        "while True:\n",
        "  player_move('X')\n",
        "  print_board()\n",
        "\n",
        "  if is_victory('X'):\n",
        "    print('X wins! Congratulations !')\n",
        "    break\n",
        "  elif is_draw():\n",
        "    print(\"It's a draw!\")\n",
        "    break\n",
        "\n",
        "\n",
        "\n",
        "  player_move('O')\n",
        "  print_board()\n",
        "\n",
        "  if is_victory('O'):\n",
        "    print('O wins! Congratulations !')\n",
        "    break\n",
        "  elif is_draw():\n",
        "    print(\"It's a draw!\")\n",
        "    break\n",
        "\n",
        " "
      ],
      "metadata": {
        "colab": {
          "base_uri": "https://localhost:8080/"
        },
        "id": "CG9LhbjQwdws",
        "outputId": "468d2d72-1936-4011-d57b-a2c933166b87"
      },
      "execution_count": 50,
      "outputs": [
        {
          "output_type": "stream",
          "name": "stdout",
          "text": [
            "Rules for Playing the Game\n",
            "| 1 | 2 | 3 |\n",
            "| 4 | 5 | 6 |\n",
            "| 7 | 8 | 9 |\n",
            "Your turn player #1:\n",
            "Enter your move (1-9):1\n",
            "\n",
            "| X |   |   |\n",
            "|   |   |   |\n",
            "|   |   |   |\n",
            "\n",
            "Your turn player #2:\n",
            "Enter your move (1-9):3\n",
            "\n",
            "| X |   | O |\n",
            "|   |   |   |\n",
            "|   |   |   |\n",
            "\n",
            "Your turn player #1:\n",
            "Enter your move (1-9):4\n",
            "\n",
            "| X |   | O |\n",
            "| X |   |   |\n",
            "|   |   |   |\n",
            "\n",
            "Your turn player #2:\n",
            "Enter your move (1-9):5\n",
            "\n",
            "| X |   | O |\n",
            "| X | O |   |\n",
            "|   |   |   |\n",
            "\n",
            "Your turn player #1:\n",
            "Enter your move (1-9):7\n",
            "\n",
            "| X |   | O |\n",
            "| X | O |   |\n",
            "| X |   |   |\n",
            "\n",
            "X wins! Congratulations !\n"
          ]
        }
      ]
    }
  ]
}